{
  "nbformat": 4,
  "nbformat_minor": 0,
  "metadata": {
    "colab": {
      "name": "Variables and Memory refrences.ipynb",
      "provenance": [],
      "collapsed_sections": [],
      "authorship_tag": "ABX9TyOodLlS3zD+vxQARJ04fxV3",
      "include_colab_link": true
    },
    "kernelspec": {
      "name": "python3",
      "display_name": "Python 3"
    },
    "language_info": {
      "name": "python"
    }
  },
  "cells": [
    {
      "cell_type": "markdown",
      "metadata": {
        "id": "view-in-github",
        "colab_type": "text"
      },
      "source": [
        "<a href=\"https://colab.research.google.com/github/hs0805/python-practice-notebooks/blob/main/Variables_and_Memory_refrences.ipynb\" target=\"_parent\"><img src=\"https://colab.research.google.com/assets/colab-badge.svg\" alt=\"Open In Colab\"/></a>"
      ]
    },
    {
      "cell_type": "markdown",
      "metadata": {
        "id": "V_9qfhTC7sgr"
      },
      "source": [
        "### Memory address of variables"
      ]
    },
    {
      "cell_type": "code",
      "metadata": {
        "colab": {
          "base_uri": "https://localhost:8080/"
        },
        "id": "NkHYMvZG4nhf",
        "outputId": "69eda722-02b0-4e2e-8928-7e1bd3e76b88"
      },
      "source": [
        "my_var = 10\n",
        "print(f'my_var = {my_var}')\n",
        "print(f'memory of my_var (decimal) = {id(my_var)}')\n",
        "print(f'memory of my_var is (hex) = {hex(id(my_var))}')"
      ],
      "execution_count": null,
      "outputs": [
        {
          "output_type": "stream",
          "text": [
            "my_var = 10\n",
            "memory of my_var (decimal) = 94268385565472\n",
            "memory of my_var is (hex) = 0x55bc91a29b20\n"
          ],
          "name": "stdout"
        }
      ]
    },
    {
      "cell_type": "code",
      "metadata": {
        "colab": {
          "base_uri": "https://localhost:8080/"
        },
        "id": "rWfGVDND5iw5",
        "outputId": "334d2bf6-f85a-4bea-eec8-d467ce686eec"
      },
      "source": [
        "a = 10\n",
        "print(f\"memory of a (hex) = {hex(id(a))}\")"
      ],
      "execution_count": null,
      "outputs": [
        {
          "output_type": "stream",
          "text": [
            "memory of a (hex) = 0x55bc91a29b20\n"
          ],
          "name": "stdout"
        }
      ]
    },
    {
      "cell_type": "code",
      "metadata": {
        "colab": {
          "base_uri": "https://localhost:8080/"
        },
        "id": "AutK9r7A6Ecj",
        "outputId": "c962721f-8038-4dc7-fc3c-df1cc25a170e"
      },
      "source": [
        "a = 10000\n",
        "print(f'memory of a (hex) = {hex(id(a))}')\n",
        "b = 10000\n",
        "print(f\"memory of b (hex) = {hex(id(b))}\")"
      ],
      "execution_count": null,
      "outputs": [
        {
          "output_type": "stream",
          "text": [
            "memory of a (hex) = 0x7f269dad9df0\n",
            "memory of b (hex) = 0x7f269dad9f70\n"
          ],
          "name": "stdout"
        }
      ]
    },
    {
      "cell_type": "markdown",
      "metadata": {
        "id": "uhmX1tEU7kMV"
      },
      "source": [
        "### References counting"
      ]
    },
    {
      "cell_type": "code",
      "metadata": {
        "id": "_Br2QBtM7oBo"
      },
      "source": [
        "import ctypes\n",
        "\n",
        "def ref_count(address):\n",
        "  return ctypes.c_long.from_address(address).value\n"
      ],
      "execution_count": null,
      "outputs": []
    },
    {
      "cell_type": "code",
      "metadata": {
        "colab": {
          "base_uri": "https://localhost:8080/"
        },
        "id": "Mzc5Vb9P8AQx",
        "outputId": "f0ce98de-a388-4de4-9ff3-a1ad14ec3afa"
      },
      "source": [
        "my_var = [a, 2, 3, 4]\n",
        "ref_count(id(my_var))"
      ],
      "execution_count": null,
      "outputs": [
        {
          "output_type": "execute_result",
          "data": {
            "text/plain": [
              "1"
            ]
          },
          "metadata": {
            "tags": []
          },
          "execution_count": 184
        }
      ]
    },
    {
      "cell_type": "code",
      "metadata": {
        "colab": {
          "base_uri": "https://localhost:8080/"
        },
        "id": "KwZJbBeT8e-p",
        "outputId": "9883fa82-111a-4703-b991-29865d93c5bd"
      },
      "source": [
        "import sys\n",
        "sys.getrefcount(my_var)   ##count is 2 because the variable passed here and this variable is pointing to the memory address also\n"
      ],
      "execution_count": null,
      "outputs": [
        {
          "output_type": "execute_result",
          "data": {
            "text/plain": [
              "2"
            ]
          },
          "metadata": {
            "tags": []
          },
          "execution_count": 185
        }
      ]
    },
    {
      "cell_type": "code",
      "metadata": {
        "colab": {
          "base_uri": "https://localhost:8080/"
        },
        "id": "03hxxiNI8lO9",
        "outputId": "58d5571b-9816-49c3-cee8-d63a69f45b19"
      },
      "source": [
        "other_var = my_var\n",
        "print(hex(id(other_var)))\n",
        "print(hex(id(my_var)))"
      ],
      "execution_count": null,
      "outputs": [
        {
          "output_type": "stream",
          "text": [
            "0x7f269dae0a00\n",
            "0x7f269dae0a00\n"
          ],
          "name": "stdout"
        }
      ]
    },
    {
      "cell_type": "code",
      "metadata": {
        "colab": {
          "base_uri": "https://localhost:8080/"
        },
        "id": "uA-L1ylS9cf5",
        "outputId": "d7415855-66b8-486e-df4e-e1460dc88299"
      },
      "source": [
        "print(f'Reference count by ctypes = {ref_count(id(my_var))}')\n",
        "print(f'Reference count by sys = {sys.getrefcount(my_var)}')"
      ],
      "execution_count": null,
      "outputs": [
        {
          "output_type": "stream",
          "text": [
            "Reference count by ctypes = 2\n",
            "Reference count by sys = 3\n"
          ],
          "name": "stdout"
        }
      ]
    },
    {
      "cell_type": "code",
      "metadata": {
        "id": "c4w0uPrq9t9C"
      },
      "source": [
        "other_var = None"
      ],
      "execution_count": null,
      "outputs": []
    },
    {
      "cell_type": "code",
      "metadata": {
        "colab": {
          "base_uri": "https://localhost:8080/"
        },
        "id": "zCboZnrp-IEq",
        "outputId": "37ffd3ae-29fa-483a-d710-d97d2ef2e4bf"
      },
      "source": [
        "print(f'Reference count of my_var by ctypes = {ref_count(id(my_var))}')\n",
        "print(f'Reference count of my_var by sys = {sys.getrefcount(my_var)}')\n",
        "print(f'Reference count of other_var by ctypes = {ref_count(id(other_var))}')   # None can be at multiple place and other_var is pointing to None now\n",
        "print(f'Reference count of other_var by sys = {sys.getrefcount(other_var)}')"
      ],
      "execution_count": null,
      "outputs": [
        {
          "output_type": "stream",
          "text": [
            "Reference count of my_var by ctypes = 1\n",
            "Reference count of my_var by sys = 2\n",
            "Reference count of other_var by ctypes = 69690\n",
            "Reference count of other_var by sys = 69693\n"
          ],
          "name": "stdout"
        }
      ]
    },
    {
      "cell_type": "markdown",
      "metadata": {
        "id": "bb8Z5r8RBP7N"
      },
      "source": [
        "## Garbage collection"
      ]
    },
    {
      "cell_type": "code",
      "metadata": {
        "id": "ycxfP6MABSXH"
      },
      "source": [
        "import gc\n",
        "\n",
        "def object_by_id(object_id):\n",
        "  for obj in gc.get_objects():\n",
        "    if id(obj) == object_id:\n",
        "      return \"Object found\"\n",
        "  return \"Not found\" "
      ],
      "execution_count": null,
      "outputs": []
    },
    {
      "cell_type": "code",
      "metadata": {
        "id": "hEzgFJWuCxNe"
      },
      "source": [
        "class A:\n",
        "  def __init__(self):\n",
        "    self.b = B(self)\n",
        "    print(f'A: self: {hex(id(self))}, {hex(id(self.b))}')\n",
        "\n",
        "class B:\n",
        "  def __init__(self, a):\n",
        "    self.a = a\n",
        "    print(f'B: self: {hex(id(self))}, {hex(id(self.a))}')\n",
        "    "
      ],
      "execution_count": null,
      "outputs": []
    },
    {
      "cell_type": "code",
      "metadata": {
        "id": "J0zF19ehC1yX"
      },
      "source": [
        "gc.disable()"
      ],
      "execution_count": null,
      "outputs": []
    },
    {
      "cell_type": "code",
      "metadata": {
        "colab": {
          "base_uri": "https://localhost:8080/"
        },
        "id": "WTyRpbapEHky",
        "outputId": "463cd384-da74-4a62-8756-e2a1cf994829"
      },
      "source": [
        "my_var = A()"
      ],
      "execution_count": null,
      "outputs": [
        {
          "output_type": "stream",
          "text": [
            "B: self: 0x7f269db71710, 0x7f269db719d0\n",
            "A: self: 0x7f269db719d0, 0x7f269db71710\n"
          ],
          "name": "stdout"
        }
      ]
    },
    {
      "cell_type": "markdown",
      "metadata": {
        "id": "58WZM5BpG110"
      },
      "source": [
        "###Dynamic Typing"
      ]
    },
    {
      "cell_type": "code",
      "metadata": {
        "colab": {
          "base_uri": "https://localhost:8080/"
        },
        "id": "gsZu2WtIEJAZ",
        "outputId": "2118c184-107a-49b0-f023-3d733158c74c"
      },
      "source": [
        "a = \"Hello\"\n",
        "type(a)"
      ],
      "execution_count": null,
      "outputs": [
        {
          "output_type": "execute_result",
          "data": {
            "text/plain": [
              "str"
            ]
          },
          "metadata": {
            "tags": []
          },
          "execution_count": 194
        }
      ]
    },
    {
      "cell_type": "code",
      "metadata": {
        "colab": {
          "base_uri": "https://localhost:8080/"
        },
        "id": "Huo9XRwcHXuP",
        "outputId": "c2aa2499-58ac-47a0-cbe9-4d84c2653c76"
      },
      "source": [
        "a = 10\n",
        "type(a)"
      ],
      "execution_count": null,
      "outputs": [
        {
          "output_type": "execute_result",
          "data": {
            "text/plain": [
              "int"
            ]
          },
          "metadata": {
            "tags": []
          },
          "execution_count": 195
        }
      ]
    },
    {
      "cell_type": "code",
      "metadata": {
        "colab": {
          "base_uri": "https://localhost:8080/"
        },
        "id": "mTo4t7tQHkum",
        "outputId": "48d351c8-403e-475d-9e47-1d2b9c048d1f"
      },
      "source": [
        "a = lambda a: a ** 2\n",
        "type(a)"
      ],
      "execution_count": null,
      "outputs": [
        {
          "output_type": "execute_result",
          "data": {
            "text/plain": [
              "function"
            ]
          },
          "metadata": {
            "tags": []
          },
          "execution_count": 196
        }
      ]
    },
    {
      "cell_type": "markdown",
      "metadata": {
        "id": "j2wHN2t1H7_B"
      },
      "source": [
        "###Variable re-assignment"
      ]
    },
    {
      "cell_type": "code",
      "metadata": {
        "colab": {
          "base_uri": "https://localhost:8080/"
        },
        "id": "7p23Mf73HlRW",
        "outputId": "ad27ec4b-cd39-4fb4-c291-ccf5e5e77987"
      },
      "source": [
        "a = 10\n",
        "b = 10\n",
        "print(f'Memory address is = {hex(id(a)), hex(id(b))}')"
      ],
      "execution_count": null,
      "outputs": [
        {
          "output_type": "stream",
          "text": [
            "Memory address is = ('0x55bc91a29b20', '0x55bc91a29b20')\n"
          ],
          "name": "stdout"
        }
      ]
    },
    {
      "cell_type": "code",
      "metadata": {
        "colab": {
          "base_uri": "https://localhost:8080/"
        },
        "id": "dJDDPfOKIbx5",
        "outputId": "d715c06f-c23d-487e-bcab-46e8357e8ae2"
      },
      "source": [
        "a = 10000\n",
        "b = 10000\n",
        "print(f'Memory address is = {hex(id(a)), hex(id(b))}')\n",
        "gc.enable()"
      ],
      "execution_count": null,
      "outputs": [
        {
          "output_type": "stream",
          "text": [
            "Memory address is = ('0x7f269db31690', '0x7f269db31630')\n"
          ],
          "name": "stdout"
        }
      ]
    },
    {
      "cell_type": "markdown",
      "metadata": {
        "id": "H68DaG7OI136"
      },
      "source": [
        "###Object Mutability"
      ]
    },
    {
      "cell_type": "code",
      "metadata": {
        "id": "eYRhjUr5Ihrt",
        "colab": {
          "base_uri": "https://localhost:8080/"
        },
        "outputId": "aa64e3b6-30b4-43dc-9b87-1182d9577ba8"
      },
      "source": [
        "list_1 = [1, 2, 3]\n",
        "print(hex(id(list_1)))\n",
        "list_1.append(4)    \n",
        "# list_1 = list_1 + [5]\n",
        "print(hex(id(list_1)))  ## address does not changes to immutable"
      ],
      "execution_count": null,
      "outputs": [
        {
          "output_type": "stream",
          "text": [
            "0x7f269dac28c0\n",
            "0x7f269dac28c0\n"
          ],
          "name": "stdout"
        }
      ]
    },
    {
      "cell_type": "code",
      "metadata": {
        "colab": {
          "base_uri": "https://localhost:8080/"
        },
        "id": "C_XgFYtmz3kA",
        "outputId": "2b653a14-48e5-4aa5-aada-a7c4a4e7bef8"
      },
      "source": [
        "s = \"happy\"\n",
        "print(hex(id(s)))\n",
        "s = s + \"singh\"    \n",
        "print(hex(id(s)))   ## address changes so immutable"
      ],
      "execution_count": null,
      "outputs": [
        {
          "output_type": "stream",
          "text": [
            "0x7f269dadcf30\n",
            "0x7f269dbe4fb0\n"
          ],
          "name": "stdout"
        }
      ]
    },
    {
      "cell_type": "code",
      "metadata": {
        "colab": {
          "base_uri": "https://localhost:8080/"
        },
        "id": "UdD95h2P0feN",
        "outputId": "36217d9a-ea0f-49df-ef4c-26b991f52ce3"
      },
      "source": [
        "## Making tuple mutable\n",
        "a = [1, 2]\n",
        "b = [4, 5]\n",
        "t = (a, b)\n",
        "print(f't = {t}, Memory Address = {hex(id(t))}')\n",
        "a.append(3)\n",
        "b.append(6)\n",
        "print(f't = {t}, Memory Address = {hex(id(t))}')\n",
        "t"
      ],
      "execution_count": null,
      "outputs": [
        {
          "output_type": "stream",
          "text": [
            "t = ([1, 2], [4, 5]), Memory Address = 0x7f269db44c30\n",
            "t = ([1, 2, 3], [4, 5, 6]), Memory Address = 0x7f269db44c30\n"
          ],
          "name": "stdout"
        },
        {
          "output_type": "execute_result",
          "data": {
            "text/plain": [
              "([1, 2, 3], [4, 5, 6])"
            ]
          },
          "metadata": {
            "tags": []
          },
          "execution_count": 201
        }
      ]
    },
    {
      "cell_type": "markdown",
      "metadata": {
        "id": "5khRfJs68jYs"
      },
      "source": [
        "###Function arguments and mutability"
      ]
    },
    {
      "cell_type": "code",
      "metadata": {
        "id": "qI45bReq7vLF"
      },
      "source": [
        "## IMMUTABLE\n",
        "def modify_string(str):\n",
        "  print(f'str = {str} Memory Address = {hex(id(str))}')\n",
        "  str += \"world\"\n",
        "  print(f'str = {str} Memory Address = {hex(id(str))}')"
      ],
      "execution_count": null,
      "outputs": []
    },
    {
      "cell_type": "code",
      "metadata": {
        "colab": {
          "base_uri": "https://localhost:8080/"
        },
        "id": "s-zVxtDL-7Hc",
        "outputId": "b62ba4b1-6ecc-408f-c538-5ff38caf9644"
      },
      "source": [
        "my_str = \"Hello \"\n",
        "print(f'my_str = {my_str} Memory Address = {hex(id(my_str))}')\n",
        "modify_string(my_str)\n",
        "print(f'my_str = {my_str} Memory Address = {hex(id(my_str))}')"
      ],
      "execution_count": null,
      "outputs": [
        {
          "output_type": "stream",
          "text": [
            "my_str = Hello  Memory Address = 0x7f269db40eb0\n",
            "str = Hello  Memory Address = 0x7f269db40eb0\n",
            "str = Hello world Memory Address = 0x7f269db12470\n",
            "my_str = Hello  Memory Address = 0x7f269db40eb0\n"
          ],
          "name": "stdout"
        }
      ]
    },
    {
      "cell_type": "code",
      "metadata": {
        "id": "4A0NxVGJ_Tci"
      },
      "source": [
        "## MUTABLE\n",
        "def modify_list(arg_list):\n",
        "  print(f'list = {arg_list} Memory Address = {hex(id(arg_list))}')\n",
        "  if len(arg_list) > 0:\n",
        "    arg_list[0] = arg_list[0] **2\n",
        "  arg_list.pop()\n",
        "  print(f'list = {arg_list} Memory Address = {hex(id(arg_list))}')"
      ],
      "execution_count": null,
      "outputs": []
    },
    {
      "cell_type": "code",
      "metadata": {
        "colab": {
          "base_uri": "https://localhost:8080/"
        },
        "id": "BQTTrveK_ZW6",
        "outputId": "7b48ac3e-a67f-4086-ae97-6af434c9eb1f"
      },
      "source": [
        "my_list = [6, 2, 3]\n",
        "print(f'my_list = {my_list} Memory Address = {hex(id(my_list))}')\n",
        "modify_list(my_list)\n",
        "print(f'my_list = {my_list} Memory Address = {hex(id(my_list))}')"
      ],
      "execution_count": null,
      "outputs": [
        {
          "output_type": "stream",
          "text": [
            "my_list = [6, 2, 3] Memory Address = 0x7f269db02b40\n",
            "list = [6, 2, 3] Memory Address = 0x7f269db02b40\n",
            "list = [36, 2] Memory Address = 0x7f269db02b40\n",
            "my_list = [36, 2] Memory Address = 0x7f269db02b40\n"
          ],
          "name": "stdout"
        }
      ]
    },
    {
      "cell_type": "markdown",
      "metadata": {
        "id": "WcE_6TeHBRna"
      },
      "source": [
        "###Object references and mutability"
      ]
    },
    {
      "cell_type": "code",
      "metadata": {
        "colab": {
          "base_uri": "https://localhost:8080/"
        },
        "id": "d56l0wj7_z6C",
        "outputId": "6a54ad0f-6a30-4973-907e-3dabb5a03f21"
      },
      "source": [
        "a = 10\n",
        "b = a\n",
        "print(f'a = {a} Memory Address = {hex(id(a))} b = {b} Memory Address = {hex(id(b))}')\n",
        "a = a + 1\n",
        "print(f'a = {a} Memory Address = {hex(id(a))} b = {b} Memory Address = {hex(id(b))}')"
      ],
      "execution_count": null,
      "outputs": [
        {
          "output_type": "stream",
          "text": [
            "a = 10 Memory Address = 0x55bc91a29b20 b = 10 Memory Address = 0x55bc91a29b20\n",
            "a = 11 Memory Address = 0x55bc91a29b40 b = 10 Memory Address = 0x55bc91a29b20\n"
          ],
          "name": "stdout"
        }
      ]
    },
    {
      "cell_type": "code",
      "metadata": {
        "colab": {
          "base_uri": "https://localhost:8080/"
        },
        "id": "GoYQuIXWB8gh",
        "outputId": "5e0be91a-a252-4d90-e3a8-23b604ee4c13"
      },
      "source": [
        "list_a = [1, 2, 3]\n",
        "list_b = list_a\n",
        "print(f'list_a = {list_a} Memory Address = {hex(id(list_a))} list_b = {list_b} Memory Address = {hex(id(list_b))}')\n",
        "list_a.append(4)\n",
        "print(f'list_a = {list_a} Memory Address = {hex(id(list_a))} list_b = {list_b} Memory Address = {hex(id(list_b))}')"
      ],
      "execution_count": null,
      "outputs": [
        {
          "output_type": "stream",
          "text": [
            "list_a = [1, 2, 3] Memory Address = 0x7f269dad45a0 list_b = [1, 2, 3] Memory Address = 0x7f269dad45a0\n",
            "list_a = [1, 2, 3, 4] Memory Address = 0x7f269dad45a0 list_b = [1, 2, 3, 4] Memory Address = 0x7f269dad45a0\n"
          ],
          "name": "stdout"
        }
      ]
    },
    {
      "cell_type": "markdown",
      "metadata": {
        "id": "lZr4DNM8Dtg-"
      },
      "source": [
        "###Equality in objects\n"
      ]
    },
    {
      "cell_type": "code",
      "metadata": {
        "colab": {
          "base_uri": "https://localhost:8080/"
        },
        "id": "eGbTMeZfD5Z2",
        "outputId": "39b1104d-624b-4a7b-859c-ceac4725f9e9"
      },
      "source": [
        "a = 10\n",
        "b = 10\n",
        "print(f' a == b is {a == b}')   ## compares values only\n",
        "print(f'(a is b) is {a is b}')  ## compares memory address"
      ],
      "execution_count": null,
      "outputs": [
        {
          "output_type": "stream",
          "text": [
            " a == b is True\n",
            "(a is b) is True\n"
          ],
          "name": "stdout"
        }
      ]
    },
    {
      "cell_type": "code",
      "metadata": {
        "colab": {
          "base_uri": "https://localhost:8080/"
        },
        "id": "9i6vcwayEGT2",
        "outputId": "a3c24d8d-6ba4-48bb-93f1-a0f534fcb57d"
      },
      "source": [
        "a = 10000\n",
        "b = 10000\n",
        "print(f' a == b is {a == b}')\n",
        "print(f'(a is b) is {a is b}')"
      ],
      "execution_count": null,
      "outputs": [
        {
          "output_type": "stream",
          "text": [
            " a == b is True\n",
            "(a is b) is False\n"
          ],
          "name": "stdout"
        }
      ]
    },
    {
      "cell_type": "code",
      "metadata": {
        "colab": {
          "base_uri": "https://localhost:8080/"
        },
        "id": "VLoEw8RTEPZP",
        "outputId": "d8f8be0e-14e0-4866-fc70-cea57aae2e97"
      },
      "source": [
        "a = 10000\n",
        "b = 10000.0\n",
        "print(f' a == b is {a == b}')\n",
        "print(f'(a is b) is {a is b}')\n",
        "print(type(a), type(b))"
      ],
      "execution_count": null,
      "outputs": [
        {
          "output_type": "stream",
          "text": [
            " a == b is True\n",
            "(a is b) is False\n",
            "<class 'int'> <class 'float'>\n"
          ],
          "name": "stdout"
        }
      ]
    },
    {
      "cell_type": "code",
      "metadata": {
        "colab": {
          "base_uri": "https://localhost:8080/"
        },
        "id": "Ix7feK3zEizU",
        "outputId": "a612bc17-8b06-4f3f-bf65-9b150b98cc1b"
      },
      "source": [
        " print(type(None))  ## None is a variable of type None and is immutable\n"
      ],
      "execution_count": null,
      "outputs": [
        {
          "output_type": "stream",
          "text": [
            "<class 'NoneType'>\n"
          ],
          "name": "stdout"
        }
      ]
    },
    {
      "cell_type": "code",
      "metadata": {
        "colab": {
          "base_uri": "https://localhost:8080/"
        },
        "id": "f7oPiPE0FDnY",
        "outputId": "a98253e8-a420-479f-f8cf-0b37e623f28a"
      },
      "source": [
        "print(f'None : {hex(id(None))}')\n",
        "a = None\n",
        "print(f'a : {hex(id(a))}')"
      ],
      "execution_count": null,
      "outputs": [
        {
          "output_type": "stream",
          "text": [
            "None : 0x55bc91995dc0\n",
            "a : 0x55bc91995dc0\n"
          ],
          "name": "stdout"
        }
      ]
    },
    {
      "cell_type": "code",
      "metadata": {
        "colab": {
          "base_uri": "https://localhost:8080/"
        },
        "id": "2Hwt-XYgFos5",
        "outputId": "b26bdb7e-6ec6-450b-8b1b-9bdfd609ab5e"
      },
      "source": [
        "l = []\n",
        "print(f'l is None : {l is None}')\n",
        "print(f'l == None : {l == None}')"
      ],
      "execution_count": null,
      "outputs": [
        {
          "output_type": "stream",
          "text": [
            "l is None : False\n",
            "l == None : False\n"
          ],
          "name": "stdout"
        }
      ]
    },
    {
      "cell_type": "markdown",
      "metadata": {
        "id": "vsTjnIsqJ52I"
      },
      "source": [
        "###Everything is object"
      ]
    },
    {
      "cell_type": "code",
      "metadata": {
        "colab": {
          "base_uri": "https://localhost:8080/"
        },
        "id": "5XgtpfmCGGlQ",
        "outputId": "96836934-7a30-4266-fd9b-be1921e76761"
      },
      "source": [
        "a = 10\n",
        "f = lambda x: x**2\n",
        "c = int('10')\n",
        "type(a), type(f), type(c)"
      ],
      "execution_count": null,
      "outputs": [
        {
          "output_type": "execute_result",
          "data": {
            "text/plain": [
              "(int, function, int)"
            ]
          },
          "metadata": {
            "tags": []
          },
          "execution_count": 214
        }
      ]
    },
    {
      "cell_type": "code",
      "metadata": {
        "id": "0JlcUtqRKF0M"
      },
      "source": [
        "# help(int)"
      ],
      "execution_count": null,
      "outputs": []
    },
    {
      "cell_type": "code",
      "metadata": {
        "colab": {
          "base_uri": "https://localhost:8080/"
        },
        "id": "VrWdT3VGKWnS",
        "outputId": "f543a9ad-4816-4b4d-9731-54ab7be77275"
      },
      "source": [
        "def square(a):\n",
        "  return a ** 2\n",
        "\n",
        "f = square\n",
        "print(f is square)\n",
        "f(2)"
      ],
      "execution_count": null,
      "outputs": [
        {
          "output_type": "stream",
          "text": [
            "True\n"
          ],
          "name": "stdout"
        },
        {
          "output_type": "execute_result",
          "data": {
            "text/plain": [
              "4"
            ]
          },
          "metadata": {
            "tags": []
          },
          "execution_count": 216
        }
      ]
    },
    {
      "cell_type": "code",
      "metadata": {
        "id": "0Ql3R3hiKdao"
      },
      "source": [
        "def cube(a):\n",
        "  return a ** 3\n",
        "\n",
        "def sel_function(fn_id):\n",
        "  if fn_id == 1:\n",
        "    return square\n",
        "  else:\n",
        "    return cube "
      ],
      "execution_count": null,
      "outputs": []
    },
    {
      "cell_type": "code",
      "metadata": {
        "colab": {
          "base_uri": "https://localhost:8080/"
        },
        "id": "WzfIfO_iHGFj",
        "outputId": "87782486-4662-4c1d-8566-ca1994e4921e"
      },
      "source": [
        "f = sel_function(1)\n",
        "print(hex(id(f)))\n",
        "print(hex(id(square)))\n",
        "print(hex(id(cube)))\n",
        "print(type(f))\n",
        "print(f'f is square {f is square}')\n",
        "print(f'f is cube {f is cube}')"
      ],
      "execution_count": null,
      "outputs": [
        {
          "output_type": "stream",
          "text": [
            "0x7f269db20950\n",
            "0x7f269db20950\n",
            "0x7f269db20b00\n",
            "<class 'function'>\n",
            "f is square True\n",
            "f is cube False\n"
          ],
          "name": "stdout"
        }
      ]
    },
    {
      "cell_type": "code",
      "metadata": {
        "colab": {
          "base_uri": "https://localhost:8080/"
        },
        "id": "P1bkvpsBHp1I",
        "outputId": "0848702f-a31d-4c24-bcf9-74e1e125d312"
      },
      "source": [
        "sel_function(1)(5)\n",
        "sel_function(\"Happy singh\")(5)"
      ],
      "execution_count": null,
      "outputs": [
        {
          "output_type": "execute_result",
          "data": {
            "text/plain": [
              "125"
            ]
          },
          "metadata": {
            "tags": []
          },
          "execution_count": 219
        }
      ]
    },
    {
      "cell_type": "code",
      "metadata": {
        "colab": {
          "base_uri": "https://localhost:8080/"
        },
        "id": "VXisAlsuH77a",
        "outputId": "aaf6a9e4-c9f1-4f14-9282-78146311caf5"
      },
      "source": [
        "print(1 == 1+0j, 2 == 2+0j)\n",
        "print(1 == 1+1j, 2 == 2+1J)"
      ],
      "execution_count": null,
      "outputs": [
        {
          "output_type": "stream",
          "text": [
            "True True\n",
            "False False\n"
          ],
          "name": "stdout"
        }
      ]
    },
    {
      "cell_type": "code",
      "metadata": {
        "id": "0_zCNZZ-Ibgc"
      },
      "source": [
        "def execute_fun(fun, n):\n",
        "  return fun(2)"
      ],
      "execution_count": null,
      "outputs": []
    },
    {
      "cell_type": "code",
      "metadata": {
        "colab": {
          "base_uri": "https://localhost:8080/"
        },
        "id": "DXtX0yz0I44R",
        "outputId": "df1904c9-775b-492f-8945-e1f88861b947"
      },
      "source": [
        "result = execute_fun(cube, 3)\n",
        "print(result)"
      ],
      "execution_count": null,
      "outputs": [
        {
          "output_type": "stream",
          "text": [
            "8\n"
          ],
          "name": "stdout"
        }
      ]
    },
    {
      "cell_type": "markdown",
      "metadata": {
        "id": "maaTBNTSJIwc"
      },
      "source": [
        "###Python interning"
      ]
    },
    {
      "cell_type": "code",
      "metadata": {
        "colab": {
          "base_uri": "https://localhost:8080/"
        },
        "id": "1THgJ6ztJBRv",
        "outputId": "16087612-7a1f-4d3b-8927-2cbc7af3e385"
      },
      "source": [
        "a, b, c, d, e, f, g, h = 256, 256, -5, -5, 257, 257, -6, -6\n",
        "print(id(a), id(b), id(c), id(d), id(e), id(f), id(g), id(h))  #same id from -5 to 256\n",
        "## Python is pre-caching the integers range from  -5 to 256. \n",
        "## The integers from -5 to 256 are singleton objects"
      ],
      "execution_count": null,
      "outputs": [
        {
          "output_type": "stream",
          "text": [
            "94268385573344 94268385573344 94268385564992 94268385564992 139803831246000 139803831245776 139803831246768 139803831246736\n"
          ],
          "name": "stdout"
        }
      ]
    },
    {
      "cell_type": "code",
      "metadata": {
        "colab": {
          "base_uri": "https://localhost:8080/"
        },
        "id": "1GH8JlxEJ-NS",
        "outputId": "63fbcdd5-64d0-4194-b9be-3b496a3bdab0"
      },
      "source": [
        "a = 10\n",
        "b = int(10)\n",
        "c = int('10')\n",
        "d = int('1010', 2)\n",
        "print(a, b, c, d)\n",
        "a is b, b is c, c is d"
      ],
      "execution_count": null,
      "outputs": [
        {
          "output_type": "stream",
          "text": [
            "10 10 10 10\n"
          ],
          "name": "stdout"
        },
        {
          "output_type": "execute_result",
          "data": {
            "text/plain": [
              "(True, True, True)"
            ]
          },
          "metadata": {
            "tags": []
          },
          "execution_count": 224
        }
      ]
    },
    {
      "cell_type": "markdown",
      "metadata": {
        "id": "WXuCPF21MUfT"
      },
      "source": [
        "##Python optimization: String interning"
      ]
    },
    {
      "cell_type": "code",
      "metadata": {
        "id": "3LaAxxLYLX29"
      },
      "source": [
        "## identifiers = variable names, function names, class names, etc.. are interned\n",
        "# Python will also intern string literals that look like identifiers"
      ],
      "execution_count": null,
      "outputs": []
    },
    {
      "cell_type": "code",
      "metadata": {
        "colab": {
          "base_uri": "https://localhost:8080/"
        },
        "id": "5YXalnj5MrhX",
        "outputId": "73343dbc-6fc8-4c3f-8758-39c7ef34e286"
      },
      "source": [
        "a = 'hello'\n",
        "b = 'hello'\n",
        "print(id(a), id(b))\n",
        "a = 'hello world'\n",
        "b = 'hello world'\n",
        "print(id(a), id(b))\n",
        "a = 'hello_world'\n",
        "b = 'hello_world'\n",
        "print(id(a), id(b))\n",
        "a = 'this_sentence_look_like_a_vaiable_name_so_it_will_be_interened_by_the_python'\n",
        "b = 'this_sentence_look_like_a_vaiable_name_so_it_will_be_interened_by_the_python'\n",
        "print(id(a), id(b))"
      ],
      "execution_count": null,
      "outputs": [
        {
          "output_type": "stream",
          "text": [
            "139803967347184 139803967347184\n",
            "139803830993392 139803830995248\n",
            "139803830994800 139803830994800\n",
            "139803831028272 139803831028272\n"
          ],
          "name": "stdout"
        }
      ]
    },
    {
      "cell_type": "markdown",
      "metadata": {
        "id": "UHf8GuKtNvcX"
      },
      "source": [
        "### Force Interning\n",
        "In NLP if we want to compare two texts then why not force intern it and compare id"
      ]
    },
    {
      "cell_type": "code",
      "metadata": {
        "id": "vAM55PkYM7b1"
      },
      "source": [
        "import sys"
      ],
      "execution_count": null,
      "outputs": []
    },
    {
      "cell_type": "code",
      "metadata": {
        "colab": {
          "base_uri": "https://localhost:8080/"
        },
        "id": "LVoLjLYrOBz7",
        "outputId": "bac87f6d-dc84-401e-ce51-9c889d9f6ad5"
      },
      "source": [
        "a = sys.intern('hello world')\n",
        "b = sys.intern('hello world')\n",
        "c = 'hello world'\n",
        "id(a), id(b), id(c)"
      ],
      "execution_count": null,
      "outputs": [
        {
          "output_type": "execute_result",
          "data": {
            "text/plain": [
              "(139803830817328, 139803830817328, 139803830820144)"
            ]
          },
          "metadata": {
            "tags": []
          },
          "execution_count": 228
        }
      ]
    },
    {
      "cell_type": "code",
      "metadata": {
        "id": "IOmRDlgLOOZY"
      },
      "source": [
        "def compare_using_equals(n):\n",
        "  a = 'this is a long string' * 200\n",
        "  a = 'this is a long string' * 200\n",
        "  for i in range(n):\n",
        "    if a == b:\n",
        "      pass\n",
        "\n",
        "def compare_using_interning(n):\n",
        "  a = sys.intern('this is a long string') * 200\n",
        "  a = sys.intern('this is a long string') * 200\n",
        "  for i in range(n):       \n",
        "    if a is b:\n",
        "      pass\n"
      ],
      "execution_count": null,
      "outputs": []
    },
    {
      "cell_type": "code",
      "metadata": {
        "colab": {
          "base_uri": "https://localhost:8080/"
        },
        "id": "-kn-H09WPAaQ",
        "outputId": "329c4351-e070-4b40-838b-4d46e993d2bf"
      },
      "source": [
        "import time\n",
        "\n",
        "start = time.perf_counter()\n",
        "compare_using_equals(100000000)\n",
        "end = time.perf_counter()\n",
        "print(f'Equality time using compare_using_equals : {end - start}')"
      ],
      "execution_count": null,
      "outputs": [
        {
          "output_type": "stream",
          "text": [
            "Equality time using compare_using_equals : 6.043303069000103\n"
          ],
          "name": "stdout"
        }
      ]
    },
    {
      "cell_type": "code",
      "metadata": {
        "colab": {
          "base_uri": "https://localhost:8080/"
        },
        "id": "JIE7NumYQrN8",
        "outputId": "f85c7b42-9516-4bab-f980-078cfb278def"
      },
      "source": [
        "start = time.perf_counter()\n",
        "compare_using_interning(100000000)\n",
        "end = time.perf_counter()\n",
        "print(f'Equality time using compare_using_equals : {end - start}')"
      ],
      "execution_count": null,
      "outputs": [
        {
          "output_type": "stream",
          "text": [
            "Equality time using compare_using_equals : 4.8144098079992546\n"
          ],
          "name": "stdout"
        }
      ]
    },
    {
      "cell_type": "markdown",
      "metadata": {
        "id": "hNsAtsjISNgl"
      },
      "source": [
        "###Python Optiization: Peephole"
      ]
    },
    {
      "cell_type": "markdown",
      "metadata": {
        "id": "omTThPLgVIjK"
      },
      "source": [
        "######Constant Expressions\n"
      ]
    },
    {
      "cell_type": "code",
      "metadata": {
        "id": "CYF8PJSAQvKy"
      },
      "source": [
        "def func():\n",
        "  a = 20 * 60    ## Immutable\n",
        "  b = (1, 20) * 5 \n",
        "  c = \"this is the python code \" * 5\n",
        "  d = \"this is the python code \" * 200000   ##Immutable but very long text so it won't be calculated untill it's called\n",
        "  e = [1, 2] * 5  ## Mutable"
      ],
      "execution_count": null,
      "outputs": []
    },
    {
      "cell_type": "code",
      "metadata": {
        "colab": {
          "base_uri": "https://localhost:8080/"
        },
        "id": "Y49FNT1ITFF6",
        "outputId": "7eb5dccb-b495-45b4-f8be-641d4faf0861"
      },
      "source": [
        "func.__code__.co_consts"
      ],
      "execution_count": null,
      "outputs": [
        {
          "output_type": "execute_result",
          "data": {
            "text/plain": [
              "(None,\n",
              " 1200,\n",
              " (1, 20, 1, 20, 1, 20, 1, 20, 1, 20),\n",
              " 'this is the python code this is the python code this is the python code this is the python code this is the python code ',\n",
              " 'this is the python code ',\n",
              " 200000,\n",
              " 1,\n",
              " 2,\n",
              " 5)"
            ]
          },
          "metadata": {
            "tags": []
          },
          "execution_count": 233
        }
      ]
    },
    {
      "cell_type": "markdown",
      "metadata": {
        "id": "akrXq2MwVLHK"
      },
      "source": [
        "####Membership Tests"
      ]
    },
    {
      "cell_type": "code",
      "metadata": {
        "id": "uY-56JyzTi4F"
      },
      "source": [
        "def func():\n",
        "  if e in [1, 2, 3]:\n",
        "    pass"
      ],
      "execution_count": null,
      "outputs": []
    },
    {
      "cell_type": "code",
      "metadata": {
        "colab": {
          "base_uri": "https://localhost:8080/"
        },
        "id": "cbhbgFG1VaTY",
        "outputId": "0de3b8d0-67f7-45be-f9ea-ab5a1ff52411"
      },
      "source": [
        "  func.__code__.co_consts"
      ],
      "execution_count": null,
      "outputs": [
        {
          "output_type": "execute_result",
          "data": {
            "text/plain": [
              "(None, (1, 2, 3))"
            ]
          },
          "metadata": {
            "tags": []
          },
          "execution_count": 235
        }
      ]
    },
    {
      "cell_type": "code",
      "metadata": {
        "colab": {
          "base_uri": "https://localhost:8080/"
        },
        "id": "lBESw4IbVkHL",
        "outputId": "6c578873-412b-4851-a9cf-24e586438814"
      },
      "source": [
        "def func():\n",
        "  if e in {1, 2, 3}:\n",
        "    pass\n",
        "\n",
        "func.__code__.co_consts"
      ],
      "execution_count": null,
      "outputs": [
        {
          "output_type": "execute_result",
          "data": {
            "text/plain": [
              "(None, frozenset({1, 2, 3}))"
            ]
          },
          "metadata": {
            "tags": []
          },
          "execution_count": 236
        }
      ]
    },
    {
      "cell_type": "code",
      "metadata": {
        "colab": {
          "base_uri": "https://localhost:8080/"
        },
        "id": "jJ3nZUihVyTT",
        "outputId": "496cc414-0b9d-4c1b-c638-125a66b92deb"
      },
      "source": [
        "import string\n",
        "import time\n",
        "\n",
        "char_list = list(string.ascii_letters)\n",
        "char_tuple = tuple(string.ascii_letters)\n",
        "char_set = set(string.ascii_letters)\n",
        "print(char_list)\n",
        "print(char_tuple)\n",
        "print(char_set)"
      ],
      "execution_count": null,
      "outputs": [
        {
          "output_type": "stream",
          "text": [
            "['a', 'b', 'c', 'd', 'e', 'f', 'g', 'h', 'i', 'j', 'k', 'l', 'm', 'n', 'o', 'p', 'q', 'r', 's', 't', 'u', 'v', 'w', 'x', 'y', 'z', 'A', 'B', 'C', 'D', 'E', 'F', 'G', 'H', 'I', 'J', 'K', 'L', 'M', 'N', 'O', 'P', 'Q', 'R', 'S', 'T', 'U', 'V', 'W', 'X', 'Y', 'Z']\n",
            "('a', 'b', 'c', 'd', 'e', 'f', 'g', 'h', 'i', 'j', 'k', 'l', 'm', 'n', 'o', 'p', 'q', 'r', 's', 't', 'u', 'v', 'w', 'x', 'y', 'z', 'A', 'B', 'C', 'D', 'E', 'F', 'G', 'H', 'I', 'J', 'K', 'L', 'M', 'N', 'O', 'P', 'Q', 'R', 'S', 'T', 'U', 'V', 'W', 'X', 'Y', 'Z')\n",
            "{'E', 'D', 'i', 'K', 'U', 'y', 'T', 'F', 'H', 'a', 'S', 'W', 'w', 'z', 'R', 'G', 'N', 'r', 'L', 'A', 'u', 'g', 's', 'O', 'x', 'm', 'I', 'B', 'j', 'M', 'c', 'd', 'C', 'p', 'b', 't', 'n', 'q', 'k', 'Z', 'X', 'J', 'P', 'h', 'V', 'e', 'Q', 'f', 'Y', 'o', 'l', 'v'}\n"
          ],
          "name": "stdout"
        }
      ]
    },
    {
      "cell_type": "code",
      "metadata": {
        "id": "KN9msVUVWWc3"
      },
      "source": [
        "def membership_test(n, container):\n",
        "  for i in range(n):\n",
        "    if \"z\" in container:\n",
        "      pass"
      ],
      "execution_count": null,
      "outputs": []
    },
    {
      "cell_type": "code",
      "metadata": {
        "colab": {
          "base_uri": "https://localhost:8080/"
        },
        "id": "6lJkPFCdWk-P",
        "outputId": "31d84b27-09f2-4dcf-dc9b-744e0b9d137d"
      },
      "source": [
        "start = time.perf_counter()\n",
        "membership_test(1000000, char_list)\n",
        "end = time.perf_counter()\n",
        "print(f'list membership {end-start}')"
      ],
      "execution_count": null,
      "outputs": [
        {
          "output_type": "stream",
          "text": [
            "list membership 0.39924012099982065\n"
          ],
          "name": "stdout"
        }
      ]
    },
    {
      "cell_type": "code",
      "metadata": {
        "colab": {
          "base_uri": "https://localhost:8080/"
        },
        "id": "ca2xFaRiW6Rz",
        "outputId": "e6c6c8d0-dfac-49e4-c029-c00608d84a8c"
      },
      "source": [
        "start = time.perf_counter()\n",
        "membership_test(1000000, char_tuple)\n",
        "end = time.perf_counter()\n",
        "print(f'tuple membership {end-start}')"
      ],
      "execution_count": null,
      "outputs": [
        {
          "output_type": "stream",
          "text": [
            "tuple membership 0.3702038809997248\n"
          ],
          "name": "stdout"
        }
      ]
    },
    {
      "cell_type": "code",
      "metadata": {
        "colab": {
          "base_uri": "https://localhost:8080/"
        },
        "id": "F87bFJ9yW-vM",
        "outputId": "5fe1f724-2020-47f0-d12e-7a4e73425f54"
      },
      "source": [
        "start = time.perf_counter()\n",
        "membership_test(1000000, char_set)\n",
        "end = time.perf_counter()\n",
        "print(f'set membership {end-start}')"
      ],
      "execution_count": null,
      "outputs": [
        {
          "output_type": "stream",
          "text": [
            "set membership 0.050502439999945636\n"
          ],
          "name": "stdout"
        }
      ]
    }
  ]
}